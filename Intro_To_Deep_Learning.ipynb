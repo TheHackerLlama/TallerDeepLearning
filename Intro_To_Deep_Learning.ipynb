{
 "cells": [
  {
   "cell_type": "markdown",
   "metadata": {},
   "source": [
    "# Introducción a Deep Learning\n",
    "\n",
    "En este taller se dará una introducción a cómo funcionan las redes neuronales. Utilizaremos TFLearn, una librería que hace fácil manipular redes neuronales utilizando Tensorflow.\n"
   ]
  },
  {
   "cell_type": "code",
   "execution_count": 7,
   "metadata": {
    "collapsed": true
   },
   "outputs": [],
   "source": [
    "import numpy as np\n",
    "import tensorflow as tf\n",
    "import tflearn\n",
    "import tflearn.datasets.mnist as mnist"
   ]
  },
  {
   "cell_type": "code",
   "execution_count": 13,
   "metadata": {},
   "outputs": [
    {
     "name": "stdout",
     "output_type": "stream",
     "text": [
      "Extracting mnist/train-images-idx3-ubyte.gz\n",
      "Extracting mnist/train-labels-idx1-ubyte.gz\n",
      "Extracting mnist/t10k-images-idx3-ubyte.gz\n",
      "Extracting mnist/t10k-labels-idx1-ubyte.gz\n"
     ]
    },
    {
     "data": {
      "image/png": "[encoded data removed]",
      "text/plain": [
       "<matplotlib.figure.Figure at 0x127b31710>"
      ]
     },
     "metadata": {},
     "output_type": "display_data"
    }
   ],
   "source": [
    "trainX, trainY, testX, testY = mnist.load_data(one_hot=True)\n",
    "\n",
    "# Visualizing the data\n",
    "import matplotlib.pyplot as plt\n",
    "%matplotlib inline\n",
    "\n",
    "# Función para mostrar una imagen dado el índice en MNIST\n",
    "def show_digit(index):\n",
    "    label = trainY[index].argmax(axis=0)\n",
    "    image = trainX[index].reshape([28,28])\n",
    "    plt.title('Training data. Label: {}'.format(label))\n",
    "    plt.imshow(image, cmap='gray_r')\n",
    "    plt.show()\n",
    "    \n",
    "# Mostrar la imagen número mil de MNIST\n",
    "show_digit(1000)"
   ]
  },
  {
   "cell_type": "code",
   "execution_count": 14,
   "metadata": {},
   "outputs": [
    {
     "data": {
      "image/png": "[encoded data removed]",
      "text/plain": [
       "<matplotlib.figure.Figure at 0x127d0e470>"
      ]
     },
     "metadata": {},
     "output_type": "display_data"
    }
   ],
   "source": [
    "show_digit(1)"
   ]
  },
  {
   "cell_type": "code",
   "execution_count": 15,
   "metadata": {},
   "outputs": [
    {
     "data": {
      "image/png": "[encoded data removed]",
      "text/plain": [
       "<matplotlib.figure.Figure at 0x12806ea58>"
      ]
     },
     "metadata": {},
     "output_type": "display_data"
    }
   ],
   "source": [
    "show_digit(2)"
   ]
  },
  {
   "cell_type": "code",
   "execution_count": 17,
   "metadata": {
    "collapsed": true
   },
   "outputs": [],
   "source": [
    "def build_model():\n",
    "    input_layer = tflearn.input_data(shape=[None, 784])\n",
    "    dense1 = tflearn.fully_connected(input_layer, 64, activation='tanh',\n",
    "                                     regularizer='L2', weight_decay=0.001)\n",
    "    dropout1 = tflearn.dropout(dense1, 0.8)\n",
    "    dense2 = tflearn.fully_connected(dropout1, 64, activation='tanh',\n",
    "                                     regularizer='L2', weight_decay=0.001)\n",
    "    dropout2 = tflearn.dropout(dense2, 0.8)\n",
    "    softmax = tflearn.fully_connected(dropout2, 10, activation='softmax')\n",
    "\n",
    "    # Regression using SGD with learning rate decay and Top-3 accuracy\n",
    "    sgd = tflearn.SGD(learning_rate=0.1, lr_decay=0.96, decay_step=1000)\n",
    "    top_k = tflearn.metrics.Top_k(3)\n",
    "    net = tflearn.regression(softmax, optimizer=sgd, metric=top_k,\n",
    "                             loss='categorical_crossentropy')\n",
    "\n",
    "    # Training\n",
    "    model = tflearn.DNN(net, tensorboard_verbose=0)\n",
    "    return model"
   ]
  },
  {
   "cell_type": "code",
   "execution_count": 18,
   "metadata": {},
   "outputs": [
    {
     "name": "stdout",
     "output_type": "stream",
     "text": [
      "Training Step: 17199  | total loss: \u001b[1m\u001b[32m0.13062\u001b[0m\u001b[0m | time: 5.234s\n",
      "| SGD | epoch: 020 | loss: 0.13062 - top3: 0.9951 -- iter: 54976/55000\n",
      "Training Step: 17200  | total loss: \u001b[1m\u001b[32m0.13160\u001b[0m\u001b[0m | time: 6.374s\n",
      "| SGD | epoch: 020 | loss: 0.13160 - top3: 0.9956 | val_loss: 0.11143 - val_acc: 0.9946 -- iter: 55000/55000\n",
      "--\n"
     ]
    }
   ],
   "source": [
    "model = build_model()\n",
    "model.fit(trainX, trainY, n_epoch=20, validation_set=(testX, testY),\n",
    "          show_metric=True, run_id=\"dense_model\")"
   ]
  },
  {
   "cell_type": "code",
   "execution_count": 19,
   "metadata": {},
   "outputs": [
    {
     "name": "stdout",
     "output_type": "stream",
     "text": [
      "Training Step: 27099  | total loss: \u001b[1m\u001b[32m0.42212\u001b[0m\u001b[0m | time: 3.210s\n",
      "| SGD | epoch: 040 | loss: 0.42212 - top3: 0.9747 -- iter: 49400/49500\n",
      "Training Step: 27100  | total loss: \u001b[1m\u001b[32m0.38955\u001b[0m\u001b[0m | time: 4.234s\n",
      "| SGD | epoch: 040 | loss: 0.38955 - top3: 0.9772 | val_loss: 0.09226 - val_acc: 0.9971 -- iter: 49500/49500\n",
      "--\n"
     ]
    }
   ],
   "source": [
    "# Training\n",
    "model.fit(trainX, trainY, validation_set=0.1, show_metric=True, batch_size=100, n_epoch=20)"
   ]
  },
  {
   "cell_type": "code",
   "execution_count": 20,
   "metadata": {},
   "outputs": [
    {
     "name": "stdout",
     "output_type": "stream",
     "text": [
      "Test accuracy:  0.9689\n"
     ]
    }
   ],
   "source": [
    "predictions = np.array(model.predict(testX)).argmax(axis=1)\n",
    "actual = testY.argmax(axis=1)\n",
    "test_accuracy = np.mean(predictions == actual, axis=0)\n",
    "print(\"Test accuracy: \", test_accuracy)\n"
   ]
  },
  {
   "cell_type": "code",
   "execution_count": null,
   "metadata": {
    "collapsed": true
   },
   "outputs": [],
   "source": []
  }
 ],
 "metadata": {
  "kernelspec": {
   "display_name": "Python 3",
   "language": "python",
   "name": "python3"
  },
  "language_info": {
   "codemirror_mode": {
    "name": "ipython",
    "version": 3
   },
   "file_extension": ".py",
   "mimetype": "text/x-python",
   "name": "python",
   "nbconvert_exporter": "python",
   "pygments_lexer": "ipython3",
   "version": "3.5.4"
  }
 },
 "nbformat": 4,
 "nbformat_minor": 2
}
